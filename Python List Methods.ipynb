{
 "cells": [
  {
   "cell_type": "markdown",
   "id": "6bbdc79e",
   "metadata": {},
   "source": [
    "#### Python List Methods( append vs extend)"
   ]
  },
  {
   "cell_type": "markdown",
   "id": "1c39287e",
   "metadata": {},
   "source": [
    "## When to use append and extend?"
   ]
  },
  {
   "cell_type": "markdown",
   "id": "26bdfb8d",
   "metadata": {},
   "source": [
    "You may surprise looking at append and extend method available in a python.Both look similar and do you know what are basic difference between them. let me show you the few examples."
   ]
  },
  {
   "cell_type": "code",
   "execution_count": 1,
   "id": "e5c1e746",
   "metadata": {},
   "outputs": [],
   "source": [
    "# let me create one list with varible s.\n",
    "s=[2,3,4,5]\n",
    "# We want to add one item on s.\n",
    "s.append(6)"
   ]
  },
  {
   "cell_type": "code",
   "execution_count": 2,
   "id": "f4a7731b",
   "metadata": {},
   "outputs": [
    {
     "name": "stdout",
     "output_type": "stream",
     "text": [
      "[2, 3, 4, 5, 6]\n"
     ]
    }
   ],
   "source": [
    "print(s)"
   ]
  },
  {
   "cell_type": "code",
   "execution_count": 3,
   "id": "410dcab6",
   "metadata": {},
   "outputs": [
    {
     "ename": "TypeError",
     "evalue": "list.append() takes exactly one argument (2 given)",
     "output_type": "error",
     "traceback": [
      "\u001b[1;31m---------------------------------------------------------------------------\u001b[0m",
      "\u001b[1;31mTypeError\u001b[0m                                 Traceback (most recent call last)",
      "Cell \u001b[1;32mIn[3], line 2\u001b[0m\n\u001b[0;32m      1\u001b[0m \u001b[38;5;66;03m# Let me 2 items in s\u001b[39;00m\n\u001b[1;32m----> 2\u001b[0m s\u001b[38;5;241m.\u001b[39mappend(\u001b[38;5;241m10\u001b[39m,\u001b[38;5;241m11\u001b[39m)\n",
      "\u001b[1;31mTypeError\u001b[0m: list.append() takes exactly one argument (2 given)"
     ]
    }
   ],
   "source": [
    "# Let me 2 items in s with append\n",
    "s.append(10,11)"
   ]
  },
  {
   "cell_type": "code",
   "execution_count": 4,
   "id": "8f6f6ecd",
   "metadata": {},
   "outputs": [
    {
     "ename": "TypeError",
     "evalue": "'int' object is not iterable",
     "output_type": "error",
     "traceback": [
      "\u001b[1;31m---------------------------------------------------------------------------\u001b[0m",
      "\u001b[1;31mTypeError\u001b[0m                                 Traceback (most recent call last)",
      "Cell \u001b[1;32mIn[4], line 4\u001b[0m\n\u001b[0;32m      2\u001b[0m t\u001b[38;5;241m=\u001b[39m[\u001b[38;5;241m2\u001b[39m,\u001b[38;5;241m3\u001b[39m,\u001b[38;5;241m4\u001b[39m,\u001b[38;5;241m5\u001b[39m]\n\u001b[0;32m      3\u001b[0m \u001b[38;5;66;03m# We want to add one item on s. let see what happens here?\u001b[39;00m\n\u001b[1;32m----> 4\u001b[0m t\u001b[38;5;241m.\u001b[39mextend(\u001b[38;5;241m6\u001b[39m)\n",
      "\u001b[1;31mTypeError\u001b[0m: 'int' object is not iterable"
     ]
    }
   ],
   "source": [
    "# let me create another variable with same list items.\n",
    "t=[2,3,4,5]\n",
    "# We want to add one item on s with extend now. let see what happens here?\n",
    "t.extend(6)"
   ]
  },
  {
   "cell_type": "code",
   "execution_count": 5,
   "id": "d37351d0",
   "metadata": {},
   "outputs": [
    {
     "name": "stdout",
     "output_type": "stream",
     "text": [
      "[2, 3, 4, 5, 6]\n"
     ]
    }
   ],
   "source": [
    "# let me create another variable with same list items.\n",
    "t1=[2,3,4,5]\n",
    "# This time, We want to add one item on s with extend. let see what happens here?\n",
    "t1.extend([6])\n",
    "print(t1)"
   ]
  },
  {
   "cell_type": "code",
   "execution_count": 6,
   "id": "f550abe3",
   "metadata": {},
   "outputs": [
    {
     "name": "stdout",
     "output_type": "stream",
     "text": [
      "[2, 3, 4, 5, 6, 7, 9]\n"
     ]
    }
   ],
   "source": [
    "# let me create another variable with same list items.\n",
    "t2=[2,3,4,5]\n",
    "# We want to add one item on s. let see what happens here?\n",
    "t2.extend([6,7,9])\n",
    "print(t2)"
   ]
  },
  {
   "cell_type": "markdown",
   "id": "9e1cd25b",
   "metadata": {},
   "source": [
    "Did you notice the difference between append and extend in python? You may think, when to use append and extend then?"
   ]
  },
  {
   "cell_type": "markdown",
   "id": "d2467aeb",
   "metadata": {},
   "source": [
    "## Append"
   ]
  },
  {
   "cell_type": "markdown",
   "id": "46fce737",
   "metadata": {},
   "source": [
    "A list is an object. If you append() another list onto a list, the parameter list will be a single object at the end of the \n",
    "list."
   ]
  },
  {
   "cell_type": "markdown",
   "id": "5de90232",
   "metadata": {},
   "source": [
    "## Extend"
   ]
  },
  {
   "cell_type": "markdown",
   "id": "4d19e6a6",
   "metadata": {},
   "source": [
    "The Python’s List extend() Iterates over its argument and adding each element to the list and extending the list. \n",
    "The length of the list increases by a number of elements in its argument."
   ]
  },
  {
   "cell_type": "code",
   "execution_count": null,
   "id": "bb5b0e5b",
   "metadata": {},
   "outputs": [],
   "source": []
  }
 ],
 "metadata": {
  "kernelspec": {
   "display_name": "Python 3 (ipykernel)",
   "language": "python",
   "name": "python3"
  },
  "language_info": {
   "codemirror_mode": {
    "name": "ipython",
    "version": 3
   },
   "file_extension": ".py",
   "mimetype": "text/x-python",
   "name": "python",
   "nbconvert_exporter": "python",
   "pygments_lexer": "ipython3",
   "version": "3.11.5"
  }
 },
 "nbformat": 4,
 "nbformat_minor": 5
}
